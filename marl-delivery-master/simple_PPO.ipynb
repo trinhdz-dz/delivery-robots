{
  "nbformat": 4,
  "nbformat_minor": 0,
  "metadata": {
    "colab": {
      "provenance": []
    },
    "kernelspec": {
      "name": "python3",
      "display_name": "Python 3"
    },
    "language_info": {
      "name": "python"
    }
  },
  "cells": [
    {
      "cell_type": "markdown",
      "source": [
        "Solving Package delivery using single-agent PPO with a naive feature representation learning: concatenante all the feature in to a single state vector, and multiple robot actions as a multi discrete distribution."
      ],
      "metadata": {
        "id": "AM3r0wPe5N0K"
      }
    },
    {
      "cell_type": "code",
      "execution_count": 13,
      "metadata": {
        "id": "9Ro5mHQ3GnN8"
      },
      "outputs": [],
      "source": [
        "%%capture\n",
        "!git clone https://github.com/cuongtv312/marl-delivery.git\n",
        "%cd marl-delivery\n",
        "!pip install -r requirements.txt"
      ]
    },
    {
      "cell_type": "code",
      "source": [
        "%%capture\n",
        "!pip install stable-baselines3"
      ],
      "metadata": {
        "id": "uWjMBXQoG4JL"
      },
      "execution_count": 14,
      "outputs": []
    },
    {
      "cell_type": "code",
      "source": [
        "from env import Environment\n",
        "import gymnasium as gym\n",
        "from gymnasium import spaces\n",
        "import numpy as np"
      ],
      "metadata": {
        "id": "309nvG-V8Otr"
      },
      "execution_count": 20,
      "outputs": []
    },
    {
      "cell_type": "code",
      "source": [
        "# TODO: Modify this one to add more information to the Agents\n",
        "def convert_state(state):\n",
        "    ret_state = {}\n",
        "    # state[\"time_step\"] = np.array([state[\"time_step\"]]).astype(np.float32).flatten(0)\n",
        "    # state[\"map\"] = np.array(state[\"map\"]).astype(np.float32)\n",
        "    ret_state[\"robots\"] = np.array(state[\"robots\"]).astype(np.float32).flatten()\n",
        "    ret_state[\"packages\"] = np.array(state[\"packages\"]).astype(np.float32).flatten()[:100]\n",
        "    if len(ret_state[\"packages\"]) < 1000:\n",
        "        ret_state[\"packages\"] = np.concatenate((ret_state[\"packages\"], np.zeros(100-len(ret_state[\"packages\"]))))\n",
        "    return np.concatenate(list(ret_state.values()))"
      ],
      "metadata": {
        "id": "rq1hlk4b8Q37"
      },
      "execution_count": 23,
      "outputs": []
    },
    {
      "cell_type": "code",
      "source": [
        "# TODO: Modify this one to make the agent learn faster\n",
        "\n",
        "def reward_shaping(r, env, state, action):\n",
        "    return r"
      ],
      "metadata": {
        "id": "7SHRHHeF8SjO"
      },
      "execution_count": 24,
      "outputs": []
    },
    {
      "cell_type": "code",
      "source": [
        "# Avoid to modify the Env class,\n",
        "# If it is neccessary, you should describe those changes clearly in report and code\n",
        "class Env(gym.Env):\n",
        "    def __init__(self, *args, **kwargs):\n",
        "        super(Env, self).__init__()\n",
        "        self.env = Environment(*args, **kwargs)\n",
        "\n",
        "        self.action_space = spaces.multi_discrete.MultiDiscrete([5, 3]*self.env.n_robots)\n",
        "\n",
        "\n",
        "        self.prev_state = self.env.reset()\n",
        "        first_state=convert_state(self.prev_state)\n",
        "        # Define observation space as a dictionary\n",
        "\n",
        "        self.observation_space = spaces.Box(low=0, high=100, shape=first_state.shape, dtype=np.float32)\n",
        "\n",
        "\n",
        "        from sklearn.preprocessing import LabelEncoder\n",
        "        self.le1, self.le2= LabelEncoder(), LabelEncoder()\n",
        "        self.le1.fit(['S', 'L', 'R', 'U', 'D'])\n",
        "        self.le2.fit(['0','1', '2'])\n",
        "\n",
        "    def reset(self, *args, **kwargs):\n",
        "        self.prev_state = self.env.reset()\n",
        "        return convert_state(self.prev_state), {}\n",
        "\n",
        "    def render(self, *args, **kwargs):\n",
        "        return self.env.render()\n",
        "\n",
        "    def step(self, action):\n",
        "        ret = []\n",
        "        ret.append(self.le1.inverse_transform(action.reshape(-1, 2).T[0]))\n",
        "        ret.append(self.le2.inverse_transform(action.reshape(-1, 2).T[1]))\n",
        "        action = list(zip(*ret))\n",
        "\n",
        "        # You should not modify the infos object\n",
        "        s, r, done, infos = self.env.step(action)\n",
        "        new_r = reward_shaping(r, self.env, self.prev_state, action)\n",
        "        self.prev_state = s\n",
        "        return convert_state(s), new_r, \\\n",
        "            done, False, infos"
      ],
      "metadata": {
        "id": "kfrZJa4jG6yE"
      },
      "execution_count": 25,
      "outputs": []
    },
    {
      "cell_type": "code",
      "source": [
        "import gymnasium as gym\n",
        "\n",
        "from stable_baselines3 import PPO\n",
        "from stable_baselines3.common.env_util import make_vec_env\n",
        "from stable_baselines3.common.monitor import Monitor\n",
        "from stable_baselines3.common.callbacks import EvalCallback\n",
        "\n",
        "\n",
        "# Parallel environments\n",
        "vec_env = make_vec_env(lambda: Env('map2.txt', 100, 5, 20, -0.01, 10., 1., 10), n_envs=10)\n",
        "eval_env = Monitor(Env('map2.txt', 100, 5, 20, -0.01, 10., 1., 10), \"ppo_delivery\")\n",
        "\n",
        "eval_callback = EvalCallback(eval_env, best_model_save_path=\"./best_model/\",\n",
        "                             log_path=\"./logs/\", eval_freq=5000,\n",
        "                             deterministic=True, render=False)\n",
        "\n",
        "model = PPO(\"MlpPolicy\", vec_env, verbose=1)\n",
        "model.learn(total_timesteps=10000, callback=eval_callback)\n",
        "model.save(\"ppo_delivery\")\n"
      ],
      "metadata": {
        "colab": {
          "base_uri": "https://localhost:8080/"
        },
        "id": "X2IQRlqoKl78",
        "outputId": "fc847fe0-d855-43d0-cfe4-159cb2fc43e6"
      },
      "execution_count": 26,
      "outputs": [
        {
          "output_type": "stream",
          "name": "stdout",
          "text": [
            "Using cpu device\n",
            "---------------------------------\n",
            "| rollout/           |          |\n",
            "|    ep_len_mean     | 100      |\n",
            "|    ep_rew_mean     | -2.68    |\n",
            "| time/              |          |\n",
            "|    fps             | 1017     |\n",
            "|    iterations      | 1        |\n",
            "|    time_elapsed    | 20       |\n",
            "|    total_timesteps | 20480    |\n",
            "---------------------------------\n"
          ]
        }
      ]
    },
    {
      "cell_type": "code",
      "source": [],
      "metadata": {
        "id": "ISQZWTjkyZ6u"
      },
      "execution_count": 10,
      "outputs": []
    },
    {
      "cell_type": "code",
      "source": [
        "obs,_ = eval_env.reset()\n",
        "while True:\n",
        "    action, _states = model.predict(obs)\n",
        "    obs, rewards, dones, _, info = eval_env.step(action)\n",
        "    #print('='*10)\n",
        "    #eval_env.unwrapped.env.render()\n",
        "    if dones:\n",
        "        break\n",
        "\n",
        "print(info)"
      ],
      "metadata": {
        "colab": {
          "base_uri": "https://localhost:8080/"
        },
        "id": "OuDtccMk3bXJ",
        "outputId": "3c32669b-9358-49ad-c715-c2ae4e84463c"
      },
      "execution_count": 27,
      "outputs": [
        {
          "output_type": "stream",
          "name": "stdout",
          "text": [
            "{'total_reward': -3.339999999999998, 'total_time_steps': 100, 'episode': {'r': -3.34, 'l': 100, 't': 101.408837}}\n"
          ]
        }
      ]
    },
    {
      "cell_type": "code",
      "source": [
        "!pip freeze | grep stable_baselines3"
      ],
      "metadata": {
        "colab": {
          "base_uri": "https://localhost:8080/"
        },
        "id": "WVpXVAz8Kn9C",
        "outputId": "da85df6f-1219-444b-eeac-0bcf9bd6bf83"
      },
      "execution_count": 7,
      "outputs": [
        {
          "output_type": "stream",
          "name": "stdout",
          "text": [
            "stable_baselines3==2.6.0\n"
          ]
        }
      ]
    },
    {
      "cell_type": "code",
      "source": [],
      "metadata": {
        "id": "B1WfsTHEPzco"
      },
      "execution_count": 7,
      "outputs": []
    }
  ]
}