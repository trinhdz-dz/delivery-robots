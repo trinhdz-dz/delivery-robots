{
  "cells": [
    {
      "cell_type": "markdown",
      "metadata": {
        "id": "AM3r0wPe5N0K"
      },
      "source": [
        "Solving Package delivery using single-agent PPO with a naive feature representation learning: concatenante all the feature in to a single state vector, and multiple robot actions as a multi discrete distribution."
      ]
    },
    {
      "cell_type": "code",
      "execution_count": 13,
      "metadata": {
        "id": "9Ro5mHQ3GnN8"
      },
      "outputs": [],
      "source": [
        "%%capture\n",
        "!git clone https://github.com/cuongtv312/marl-delivery.git\n",
        "%cd marl-delivery\n",
        "!pip install -r requirements.txt"
      ]
    },
    {
      "cell_type": "code",
      "execution_count": 14,
      "metadata": {
        "id": "uWjMBXQoG4JL"
      },
      "outputs": [],
      "source": [
        "%%capture\n",
        "!pip install stable-baselines3"
      ]
    },
    {
      "cell_type": "code",
      "execution_count": 20,
      "metadata": {
        "id": "309nvG-V8Otr"
      },
      "outputs": [],
      "source": [
        "from env import Environment\n",
        "import gymnasium as gym\n",
        "from gymnasium import spaces\n",
        "import numpy as np"
      ]
    },
    {
      "cell_type": "code",
      "execution_count": null,
      "metadata": {
        "id": "rq1hlk4b8Q37"
      },
      "outputs": [],
      "source": [
        "# TODO: Modify this one to add more information to the Agents\n",
        "def convert_state(state):\n",
        "    # Get basic information\n",
        "    robots_info = np.array(state[\"robots\"]).astype(np.float32)  # Shape: (n_robots, 3)\n",
        "    packages_info = np.array(state[\"packages\"]).astype(np.float32) if state[\"packages\"] else np.array([])\n",
        "    \n",
        "    n_robots = len(robots_info)\n",
        "    features = []\n",
        "    \n",
        "    # For each robot, compute relevant features\n",
        "    for i in range(n_robots):\n",
        "        robot_pos = robots_info[i, :2]  # x, y position\n",
        "        carrying = robots_info[i, 2]    # package ID being carried\n",
        "        \n",
        "        robot_features = [robot_pos[0], robot_pos[1], carrying]\n",
        "        \n",
        "        if carrying > 0:  # Robot is carrying a package\n",
        "            # Find target location of the carried package\n",
        "            carried_pkg_idx = int(carrying) - 1\n",
        "            for pkg in packages_info:\n",
        "                if pkg[0] == carrying:  # package ID matches\n",
        "                    target_pos = pkg[3:5]  # target position\n",
        "                    # Distance to target\n",
        "                    dist_to_target = np.sqrt((robot_pos[0] - target_pos[0])**2 + \n",
        "                                            (robot_pos[1] - target_pos[1])**2)\n",
        "                    robot_features.extend([target_pos[0], target_pos[1], dist_to_target, 0, 0, 0])\n",
        "                    break\n",
        "            else:  # Package already delivered or not found\n",
        "                robot_features.extend([0, 0, 0, 0, 0, 0])\n",
        "        else:  # Robot is not carrying a package\n",
        "            # Find closest waiting package\n",
        "            min_dist = float('inf')\n",
        "            closest_pkg_pos = [0, 0]\n",
        "            closest_pkg_target = [0, 0]\n",
        "            \n",
        "            for pkg in packages_info:\n",
        "                pkg_id, start_x, start_y = pkg[0], pkg[1], pkg[2]\n",
        "                target_x, target_y = pkg[3], pkg[4]\n",
        "                \n",
        "                # Check if package is waiting for pickup\n",
        "                dist = np.sqrt((robot_pos[0] - start_x)**2 + (robot_pos[1] - start_y)**2)\n",
        "                if dist < min_dist:\n",
        "                    min_dist = dist\n",
        "                    closest_pkg_pos = [start_x, start_y]\n",
        "                    closest_pkg_target = [target_x, target_y]\n",
        "            \n",
        "            if min_dist != float('inf'):\n",
        "                robot_features.extend([closest_pkg_pos[0], closest_pkg_pos[1], min_dist,\n",
        "                                      closest_pkg_target[0], closest_pkg_target[1], 0])\n",
        "            else:\n",
        "                robot_features.extend([0, 0, 0, 0, 0, 0])\n",
        "        \n",
        "        features.extend(robot_features)\n",
        "    \n",
        "    # Add global information: total packages waiting/in transit\n",
        "    if len(packages_info) > 0:\n",
        "        features.append(len(packages_info))\n",
        "    else:\n",
        "        features.append(0)\n",
        "    \n",
        "    return np.array(features, dtype=np.float32)"
      ]
    },
    {
      "cell_type": "code",
      "execution_count": null,
      "metadata": {
        "id": "7SHRHHeF8SjO"
      },
      "outputs": [],
      "source": [
        "# TODO: Modify this one to make the agent learn faster\n",
        "\n",
        "def reward_shaping(r, env, state, action):\n",
        "    shaped_reward = r  # Start with the original reward\n",
        "    \n",
        "    # Get current state information\n",
        "    robots_info = np.array(state[\"robots\"]).astype(np.float32)\n",
        "    packages_info = np.array(state[\"packages\"]).astype(np.float32) if state[\"packages\"] else np.array([])\n",
        "    \n",
        "    # Track robot movements to penalize standing still without purpose\n",
        "    for i, robot in enumerate(env.robots):\n",
        "        robot_pos = robot.position\n",
        "        carrying = robot.carrying\n",
        "        move_action, pkg_action = action[i]\n",
        "        \n",
        "        # 1. Penalize robots that stand still without delivering enough goods\n",
        "        if move_action == 'S' and carrying == 0:\n",
        "            shaped_reward -= 0.05  # Small penalty for standing still without package\n",
        "        \n",
        "        # 2. Robots that move will be penalized for moving costs\n",
        "        # This is already handled in the environment, so we don't need to add it here\n",
        "        \n",
        "        # 3. Robot without package: reward getting closer to nearest package\n",
        "        if carrying == 0:\n",
        "            # Find closest package\n",
        "            min_dist = float('inf')\n",
        "            prev_min_dist = float('inf')\n",
        "            for pkg in packages_info:\n",
        "                pkg_id, start_x, start_y = pkg[0], pkg[1]-1, pkg[2]-1  # Adjust for 1-indexing\n",
        "                \n",
        "                curr_dist = np.sqrt((robot_pos[0] - start_x)**2 + (robot_pos[1] - start_y)**2)\n",
        "                \n",
        "                # Calculate previous position\n",
        "                prev_pos = env.compute_new_position(robot_pos, 'S')  # Use 'S' to get current position\n",
        "                if move_action == 'L':\n",
        "                    prev_pos = env.compute_new_position(robot_pos, 'R')\n",
        "                elif move_action == 'R':\n",
        "                    prev_pos = env.compute_new_position(robot_pos, 'L')\n",
        "                elif move_action == 'U':\n",
        "                    prev_pos = env.compute_new_position(robot_pos, 'D')\n",
        "                elif move_action == 'D':\n",
        "                    prev_pos = env.compute_new_position(robot_pos, 'U')\n",
        "                \n",
        "                prev_dist = np.sqrt((prev_pos[0] - start_x)**2 + (prev_pos[1] - start_y)**2)\n",
        "                \n",
        "                if curr_dist < min_dist:\n",
        "                    min_dist = curr_dist\n",
        "                    prev_min_dist = prev_dist\n",
        "            \n",
        "            # Reward/penalize based on distance change\n",
        "            if min_dist < prev_min_dist:\n",
        "                shaped_reward += 0.1  # Getting closer to package\n",
        "            elif min_dist > prev_min_dist:\n",
        "                shaped_reward -= 0.1  # Moving away from package\n",
        "            \n",
        "            # Bonus for picking up a package\n",
        "            if pkg_action == '1':\n",
        "                shaped_reward += 0.5\n",
        "        \n",
        "        # 4. Robot with package: reward getting closer to target\n",
        "        else:  # carrying > 0\n",
        "            package_id = carrying\n",
        "            package_target = None\n",
        "            \n",
        "            # Find the target of the package being carried\n",
        "            for pkg in packages_info:\n",
        "                if pkg[0] == package_id:\n",
        "                    target_x, target_y = pkg[3]-1, pkg[4]-1  # Adjust for 1-indexing\n",
        "                    package_target = (target_x, target_y)\n",
        "                    break\n",
        "            \n",
        "            if package_target:\n",
        "                # Calculate current and previous distance to target\n",
        "                curr_dist = np.sqrt((robot_pos[0] - package_target[0])**2 + \n",
        "                                    (robot_pos[1] - package_target[1])**2)\n",
        "                \n",
        "                # Calculate previous position\n",
        "                prev_pos = env.compute_new_position(robot_pos, 'S')\n",
        "                if move_action == 'L':\n",
        "                    prev_pos = env.compute_new_position(robot_pos, 'R')\n",
        "                elif move_action == 'R':\n",
        "                    prev_pos = env.compute_new_position(robot_pos, 'L')\n",
        "                elif move_action == 'U':\n",
        "                    prev_pos = env.compute_new_position(robot_pos, 'D')\n",
        "                elif move_action == 'D':\n",
        "                    prev_pos = env.compute_new_position(robot_pos, 'U')\n",
        "                \n",
        "                prev_dist = np.sqrt((prev_pos[0] - package_target[0])**2 + \n",
        "                                   (prev_pos[1] - package_target[1])**2)\n",
        "                \n",
        "                # Reward/penalize based on distance change\n",
        "                if curr_dist < prev_dist:\n",
        "                    shaped_reward += 0.2  # Getting closer to target\n",
        "                elif curr_dist > prev_dist:\n",
        "                    shaped_reward -= 0.2  # Moving away from target\n",
        "    \n",
        "    return r + shaped_reward"
      ]
    },
    {
      "cell_type": "code",
      "execution_count": 25,
      "metadata": {
        "id": "kfrZJa4jG6yE"
      },
      "outputs": [],
      "source": [
        "# Avoid to modify the Env class,\n",
        "# If it is neccessary, you should describe those changes clearly in report and code\n",
        "class Env(gym.Env):\n",
        "    def __init__(self, *args, **kwargs):\n",
        "        super(Env, self).__init__()\n",
        "        self.env = Environment(*args, **kwargs)\n",
        "\n",
        "        self.action_space = spaces.multi_discrete.MultiDiscrete([5, 3]*self.env.n_robots)\n",
        "\n",
        "\n",
        "        self.prev_state = self.env.reset()\n",
        "        first_state=convert_state(self.prev_state)\n",
        "        # Define observation space as a dictionary\n",
        "\n",
        "        self.observation_space = spaces.Box(low=0, high=100, shape=first_state.shape, dtype=np.float32)\n",
        "\n",
        "\n",
        "        from sklearn.preprocessing import LabelEncoder\n",
        "        self.le1, self.le2= LabelEncoder(), LabelEncoder()\n",
        "        self.le1.fit(['S', 'L', 'R', 'U', 'D'])\n",
        "        self.le2.fit(['0','1', '2'])\n",
        "\n",
        "    def reset(self, *args, **kwargs):\n",
        "        self.prev_state = self.env.reset()\n",
        "        return convert_state(self.prev_state), {}\n",
        "\n",
        "    def render(self, *args, **kwargs):\n",
        "        return self.env.render()\n",
        "\n",
        "    def step(self, action):\n",
        "        ret = []\n",
        "        ret.append(self.le1.inverse_transform(action.reshape(-1, 2).T[0]))\n",
        "        ret.append(self.le2.inverse_transform(action.reshape(-1, 2).T[1]))\n",
        "        action = list(zip(*ret))\n",
        "\n",
        "        # You should not modify the infos object\n",
        "        s, r, done, infos = self.env.step(action)\n",
        "        new_r = reward_shaping(r, self.env, self.prev_state, action)\n",
        "        self.prev_state = s\n",
        "        return convert_state(s), new_r, \\\n",
        "            done, False, infos"
      ]
    },
    {
      "cell_type": "code",
      "execution_count": 26,
      "metadata": {
        "colab": {
          "base_uri": "https://localhost:8080/"
        },
        "id": "X2IQRlqoKl78",
        "outputId": "fc847fe0-d855-43d0-cfe4-159cb2fc43e6"
      },
      "outputs": [
        {
          "name": "stdout",
          "output_type": "stream",
          "text": [
            "Using cpu device\n",
            "---------------------------------\n",
            "| rollout/           |          |\n",
            "|    ep_len_mean     | 100      |\n",
            "|    ep_rew_mean     | -2.68    |\n",
            "| time/              |          |\n",
            "|    fps             | 1017     |\n",
            "|    iterations      | 1        |\n",
            "|    time_elapsed    | 20       |\n",
            "|    total_timesteps | 20480    |\n",
            "---------------------------------\n"
          ]
        }
      ],
      "source": [
        "import gymnasium as gym\n",
        "\n",
        "from stable_baselines3 import PPO\n",
        "from stable_baselines3.common.env_util import make_vec_env\n",
        "from stable_baselines3.common.monitor import Monitor\n",
        "from stable_baselines3.common.callbacks import EvalCallback\n",
        "\n",
        "\n",
        "# Parallel environments\n",
        "vec_env = make_vec_env(lambda: Env('map2.txt', 100, 5, 20, -0.01, 10., 1., 10), n_envs=10)\n",
        "eval_env = Monitor(Env('map2.txt', 100, 5, 20, -0.01, 10., 1., 10), \"ppo_delivery\")\n",
        "\n",
        "eval_callback = EvalCallback(eval_env, best_model_save_path=\"./best_model/\",\n",
        "                             log_path=\"./logs/\", eval_freq=5000,\n",
        "                             deterministic=True, render=False)\n",
        "\n",
        "model = PPO(\"MlpPolicy\", vec_env, verbose=1)\n",
        "model.learn(total_timesteps=10000, callback=eval_callback)\n",
        "model.save(\"ppo_delivery\")\n"
      ]
    },
    {
      "cell_type": "code",
      "execution_count": 10,
      "metadata": {
        "id": "ISQZWTjkyZ6u"
      },
      "outputs": [],
      "source": []
    },
    {
      "cell_type": "code",
      "execution_count": 27,
      "metadata": {
        "colab": {
          "base_uri": "https://localhost:8080/"
        },
        "id": "OuDtccMk3bXJ",
        "outputId": "3c32669b-9358-49ad-c715-c2ae4e84463c"
      },
      "outputs": [
        {
          "name": "stdout",
          "output_type": "stream",
          "text": [
            "{'total_reward': -3.339999999999998, 'total_time_steps': 100, 'episode': {'r': -3.34, 'l': 100, 't': 101.408837}}\n"
          ]
        }
      ],
      "source": [
        "obs,_ = eval_env.reset()\n",
        "while True:\n",
        "    action, _states = model.predict(obs)\n",
        "    obs, rewards, dones, _, info = eval_env.step(action)\n",
        "    #print('='*10)\n",
        "    #eval_env.unwrapped.env.render()\n",
        "    if dones:\n",
        "        break\n",
        "\n",
        "print(info)"
      ]
    },
    {
      "cell_type": "code",
      "execution_count": 7,
      "metadata": {
        "colab": {
          "base_uri": "https://localhost:8080/"
        },
        "id": "WVpXVAz8Kn9C",
        "outputId": "da85df6f-1219-444b-eeac-0bcf9bd6bf83"
      },
      "outputs": [
        {
          "name": "stdout",
          "output_type": "stream",
          "text": [
            "stable_baselines3==2.6.0\n"
          ]
        }
      ],
      "source": [
        "!pip freeze | grep stable_baselines3"
      ]
    },
    {
      "cell_type": "code",
      "execution_count": 7,
      "metadata": {
        "id": "B1WfsTHEPzco"
      },
      "outputs": [],
      "source": []
    }
  ],
  "metadata": {
    "colab": {
      "provenance": []
    },
    "kernelspec": {
      "display_name": "Python 3",
      "name": "python3"
    },
    "language_info": {
      "name": "python"
    }
  },
  "nbformat": 4,
  "nbformat_minor": 0
}
